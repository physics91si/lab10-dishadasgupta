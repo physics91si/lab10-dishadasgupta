{
 "cells": [
  {
   "cell_type": "code",
   "execution_count": 4,
   "metadata": {},
   "outputs": [],
   "source": [
    "import string as st"
   ]
  },
  {
   "cell_type": "code",
   "execution_count": 5,
   "metadata": {},
   "outputs": [
    {
     "data": {
      "text/plain": [
       "'abcdefghij'"
      ]
     },
     "execution_count": 5,
     "metadata": {},
     "output_type": "execute_result"
    }
   ],
   "source": [
    "firstTenLetters = st.ascii_lowercase[0:10]\n",
    "firstTenLetters"
   ]
  },
  {
   "cell_type": "code",
   "execution_count": 6,
   "metadata": {},
   "outputs": [
    {
     "data": {
      "text/plain": [
       "'abcdeghij'"
      ]
     },
     "execution_count": 6,
     "metadata": {},
     "output_type": "execute_result"
    }
   ],
   "source": [
    "noSixth = firstTenLetters[:5] + firstTenLetters[6:10]\n",
    "noSixth"
   ]
  },
  {
   "cell_type": "code",
   "execution_count": 18,
   "metadata": {},
   "outputs": [
    {
     "data": {
      "text/plain": [
       "['a',\n",
       " 'aa',\n",
       " 'aaa',\n",
       " 'b',\n",
       " 'bb',\n",
       " 'bbb',\n",
       " 'c',\n",
       " 'cc',\n",
       " 'ccc',\n",
       " 'd',\n",
       " 'dd',\n",
       " 'ddd',\n",
       " 'e',\n",
       " 'ee',\n",
       " 'eee',\n",
       " 'g',\n",
       " 'gg',\n",
       " 'ggg',\n",
       " 'h',\n",
       " 'hh',\n",
       " 'hhh',\n",
       " 'i',\n",
       " 'ii',\n",
       " 'iii',\n",
       " 'j',\n",
       " 'jj',\n",
       " 'jjj']"
      ]
     },
     "execution_count": 18,
     "metadata": {},
     "output_type": "execute_result"
    }
   ],
   "source": [
    "noSix = list(noSixth)\n",
    "noSixthList = list()\n",
    "for i in noSix:\n",
    "    noSixthList.append(i)\n",
    "    noSixthList.append(i+i)\n",
    "    noSixthList.append(i+i+i)  \n",
    "noSixthList"
   ]
  },
  {
   "cell_type": "code",
   "execution_count": 58,
   "metadata": {},
   "outputs": [
    {
     "data": {
      "text/plain": [
       "[['a', 'aa', 'aaa'],\n",
       " ['b', 'bb', 'bbb'],\n",
       " ['c', 'cc', 'ccc'],\n",
       " ['d', 'dd', 'ddd'],\n",
       " ['e', 'ee', 'eee'],\n",
       " ['g', 'gg', 'ggg'],\n",
       " ['h', 'hh', 'hhh'],\n",
       " ['i', 'ii', 'iii'],\n",
       " ['j', 'jj', 'jjj']]"
      ]
     },
     "execution_count": 58,
     "metadata": {},
     "output_type": "execute_result"
    }
   ],
   "source": [
    "noSixthGrid = [[i, i+i, i+i+i] for i in noSix]\n",
    "noSixthGrid"
   ]
  },
  {
   "cell_type": "code",
   "execution_count": 60,
   "metadata": {},
   "outputs": [
    {
     "data": {
      "text/plain": [
       "[['A', 'aa', 'aaa'],\n",
       " ['B', 'bb', 'bbb'],\n",
       " ['C', 'cc', 'ccc'],\n",
       " ['D', 'dd', 'ddd'],\n",
       " ['E', 'ee', 'eee'],\n",
       " ['G', 'gg', 'ggg'],\n",
       " ['H', 'hh', 'hhh'],\n",
       " ['I', 'ii', 'iii'],\n",
       " ['J', 'jj', 'jjj']]"
      ]
     },
     "execution_count": 60,
     "metadata": {},
     "output_type": "execute_result"
    }
   ],
   "source": [
    "noSixthGridUpper = [[i.upper(), i+i, i+i+i] for i in noSix]\n",
    "noSixthGridUpper"
   ]
  },
  {
   "cell_type": "code",
   "execution_count": null,
   "metadata": {},
   "outputs": [],
   "source": []
  }
 ],
 "metadata": {
  "kernelspec": {
   "display_name": "Python 3",
   "language": "python",
   "name": "python3"
  },
  "language_info": {
   "codemirror_mode": {
    "name": "ipython",
    "version": 3
   },
   "file_extension": ".py",
   "mimetype": "text/x-python",
   "name": "python",
   "nbconvert_exporter": "python",
   "pygments_lexer": "ipython3",
   "version": "3.6.4"
  }
 },
 "nbformat": 4,
 "nbformat_minor": 2
}
